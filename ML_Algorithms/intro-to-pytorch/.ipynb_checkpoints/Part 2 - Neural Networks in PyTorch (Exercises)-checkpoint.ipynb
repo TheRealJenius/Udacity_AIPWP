{
 "cells": [
  {
   "cell_type": "markdown",
   "metadata": {},
   "source": [
    "# Neural networks with PyTorch\n",
    "\n",
    "Deep learning networks tend to be massive with dozens or hundreds of layers, that's where the term \"deep\" comes from. You can build one of these deep networks using only weight matrices as we did in the previous notebook, but in general it's very cumbersome and difficult to implement. PyTorch has a nice module `nn` that provides a nice way to efficiently build large neural networks."
   ]
  },
  {
   "cell_type": "code",
   "execution_count": 1,
   "metadata": {},
   "outputs": [],
   "source": [
    "# Import necessary packages\n",
    "\n",
    "%matplotlib inline\n",
    "%config InlineBackend.figure_format = 'retina'\n",
    "\n",
    "import numpy as np\n",
    "import torch\n",
    "\n",
    "import helper\n",
    "\n",
    "import matplotlib.pyplot as plt"
   ]
  },
  {
   "cell_type": "markdown",
   "metadata": {},
   "source": [
    "\n",
    "Now we're going to build a larger network that can solve a (formerly) difficult problem, identifying text in an image. Here we'll use the MNIST dataset which consists of greyscale handwritten digits. Each image is 28x28 pixels, you can see a sample below\n",
    "\n",
    "<img src='assets/mnist.png'>\n",
    "\n",
    "Our goal is to build a neural network that can take one of these images and predict the digit in the image.\n",
    "\n",
    "First up, we need to get our dataset. This is provided through the `torchvision` package. The code below will download the MNIST dataset, then create training and test datasets for us. Don't worry too much about the details here, you'll learn more about this later."
   ]
  },
  {
   "cell_type": "code",
   "execution_count": 2,
   "metadata": {},
   "outputs": [],
   "source": [
    "### Run this cell\n",
    "#an MNIST is a number of greyscale handwritten images, each image is 28x28 pixels\n",
    "\n",
    "from torchvision import datasets, transforms\n",
    "\n",
    "# Define a transform to normalize the data\n",
    "transform = transforms.Compose([transforms.ToTensor(),\n",
    "                              transforms.Normalize((0.5,), (0.5,)),\n",
    "                              ])\n",
    "\n",
    "# Download and load the training data\n",
    "trainset = datasets.MNIST('~/.pytorch/MNIST_data/', download=True, train=True, transform=transform)\n",
    "trainloader = torch.utils.data.DataLoader(trainset, batch_size=64, shuffle=True) # batch_size means we get 64 imagess each time we ask for a set of images from the data loader"
   ]
  },
  {
   "cell_type": "markdown",
   "metadata": {},
   "source": [
    "We have the training data loaded into `trainloader` and we make that an iterator with `iter(trainloader)`. Later, we'll use this to loop through the dataset for training, like\n",
    "\n",
    "```python\n",
    "for image, label in trainloader:\n",
    "    ## do things with images and labels\n",
    "```\n",
    "\n",
    "You'll notice I created the `trainloader` with a batch size of 64, and `shuffle=True`. The batch size is the number of images we get in one iteration from the data loader and pass through our network, often called a *batch*. And `shuffle=True` tells it to shuffle the dataset every time we start going through the data loader again. But here I'm just grabbing the first batch so we can check out the data. We can see below that `images` is just a tensor with size `(64, 1, 28, 28)`. So, 64 images per batch, 1 color channel, and 28x28 images."
   ]
  },
  {
   "cell_type": "code",
   "execution_count": 3,
   "metadata": {},
   "outputs": [
    {
     "name": "stdout",
     "output_type": "stream",
     "text": [
      "<class 'torch.Tensor'>\n",
      "torch.Size([64, 1, 28, 28])\n",
      "torch.Size([64])\n"
     ]
    }
   ],
   "source": [
    "#64 images, 1 colour channel (since it's greyscale), 28x28 pixels\n",
    "dataiter = iter(trainloader)\n",
    "images, labels = dataiter.next()\n",
    "print(type(images))\n",
    "print(images.shape)\n",
    "print(labels.shape)"
   ]
  },
  {
   "cell_type": "markdown",
   "metadata": {},
   "source": [
    "This is what one of the images looks like. "
   ]
  },
  {
   "cell_type": "code",
   "execution_count": 4,
   "metadata": {},
   "outputs": [
    {
     "data": {
      "image/png": "[encoded data removed]",
      "text/plain": [
       "<Figure size 432x288 with 1 Axes>"
      ]
     },
     "metadata": {
      "image/png": {
       "height": 248,
       "width": 251
      },
      "needs_background": "light"
     },
     "output_type": "display_data"
    }
   ],
   "source": [
    "plt.imshow(images[1].numpy().squeeze(), cmap='Greys_r');"
   ]
  },
  {
   "cell_type": "markdown",
   "metadata": {},
   "source": [
    "First, let's try to build a simple network for this dataset using weight matrices and matrix multiplications. Then, we'll see how to do it using PyTorch's `nn` module which provides a much more convenient and powerful method for defining network architectures.\n",
    "\n",
    "The networks you've seen so far are called *fully-connected* or *dense* networks. Each unit in one layer is connected to each unit in the next layer. In fully-connected networks, the input to each layer must be a one-dimensional vector (which can be stacked into a 2D tensor as a batch of multiple examples). However, our images are 28x28 2D tensors, so we need to convert them into 1D vectors. Thinking about sizes, we need to convert the batch of images with shape `(64, 1, 28, 28)` to a have a shape of `(64, 784)`, 784 is 28 times 28. This is typically called *flattening*, we flattened the 2D images into 1D vectors.\n",
    "\n",
    "Previously you built a network with one output unit. Here we need 10 output units, one for each digit. We want our network to predict the digit shown in an image, so what we'll do is calculate probabilities that the image is of any one digit or class. This ends up being a discrete probability distribution over the classes (digits) that tells us the most likely class for the image. That means we need 10 output units for the 10 classes (digits). We'll see how to convert the network output into a probability distribution next.\n",
    "\n",
    "> **Exercise:** Flatten the batch of images `images`. Then build a multi-layer network with 784 input units, 256 hidden units, and 10 output units using random tensors for the weights and biases. For now, use a sigmoid activation for the hidden layer. Leave the output layer without an activation, we'll add one that gives us a probability distribution next."
   ]
  },
  {
   "cell_type": "code",
   "execution_count": 8,
   "metadata": {},
   "outputs": [
    {
     "name": "stdout",
     "output_type": "stream",
     "text": [
      "torch.Size([64, 10])\n",
      "tensor([[ -6.9333,  16.3946,  -3.2583, -11.7956,  -1.1828,   0.8028,   2.5999,\n",
      "         -10.1567,  17.3572,  -9.0053],\n",
      "        [  5.3730,   4.9216,   3.9251,  -3.6121,  -6.5386,  -4.9714,  11.9893,\n",
      "           7.5171,   6.4078,  -7.2632],\n",
      "        [ -5.8129,  16.1409,  -1.4389,   6.2314,   2.6454,   3.0858,   4.7651,\n",
      "          10.8710,  12.8367, -13.9391],\n",
      "        [ -9.1527,  13.1501,   2.0163,  -1.2953,  -2.3135,   3.6487,  18.4650,\n",
      "           2.1558,  14.1244, -10.9982],\n",
      "        [ -2.1119,  11.7427,   3.4218,   6.2141,   3.9083,  16.7890,   7.8219,\n",
      "           1.1540,  16.6672, -12.2586],\n",
      "        [ -2.0985,  23.8765,  -3.4909,  -4.7593,   5.7491,  -1.1742,   5.6741,\n",
      "           5.5763,  11.8673,  -5.3751],\n",
      "        [  3.7715,   8.2845,  -2.0753,  -2.1202,   1.3108,   6.3959,   8.4789,\n",
      "           2.3007,   8.0309, -10.3237],\n",
      "        [  0.0898,  11.2963,   5.9963,   0.4120,  -3.5702,   5.9332,  10.3880,\n",
      "          -5.5599,  11.1712, -10.7290],\n",
      "        [ -9.0709,  12.6615,   0.8748,  -9.4212,   5.2245,   7.4933,   2.2170,\n",
      "          -1.4192,  10.9997, -14.5149],\n",
      "        [ -6.3284,  20.8198,   8.8451,  -3.6303,  -2.4331,   1.7273,   7.6832,\n",
      "          -0.2654,  27.3581, -11.8148],\n",
      "        [ -7.5880,  13.1823,   7.2271,  -4.5858,   5.1544,   5.2411,  10.3319,\n",
      "           2.4138,  19.4819, -14.0062],\n",
      "        [  1.4373,   8.9968,  10.4455,   2.9362, -11.4047,  11.7530,   8.8453,\n",
      "          20.0485,  21.1588, -15.3869],\n",
      "        [ -6.7927,  11.9094,   9.3433,   1.7308,  -3.9703,   7.4579,   4.7515,\n",
      "           9.9259,  11.0986, -14.0614],\n",
      "        [ -1.5846,  22.4046,   9.2380,  -1.6740,  -9.0517,   1.0945,  14.7372,\n",
      "          13.3828,  15.1393,  -5.2370],\n",
      "        [ -5.7727,  20.3354,   4.1547,  -7.8136,  -5.9718,   3.4164,   3.3154,\n",
      "           7.5997,  17.7393,  -2.0614],\n",
      "        [ -0.3058,  20.5116,   0.9168,  -7.2680,   3.0109,   4.0001,  16.2137,\n",
      "          -1.7056,  22.4801, -12.7319],\n",
      "        [ -1.0679,  13.5238,   3.4982, -11.9012, -11.5640,  -0.9611,   1.6235,\n",
      "           7.2391,  16.5836,  -4.6415],\n",
      "        [ -7.0683,  19.4387,   5.8665,  -1.1574,  -5.8464,   4.1318,   8.4030,\n",
      "           1.9123,  12.9476, -11.4563],\n",
      "        [ -1.5865,  17.7373,   3.7879,   4.2532,   0.4254,  -4.1532,   6.1261,\n",
      "           9.0265,  16.9519, -10.4328],\n",
      "        [ 12.4856,  10.5312,  -0.8064,  -5.2430,   8.7259,  -5.1209,  -1.0453,\n",
      "           2.5609,  16.0692, -12.9223],\n",
      "        [ -6.6429,  21.0923,  -3.6123,  -9.5524,  -4.6803,  -8.4046,   2.9268,\n",
      "          13.7785,  23.9144, -14.4571],\n",
      "        [ -0.4843,  20.2279,   3.4734,   1.5160,  -5.9607, -11.0044,  20.3972,\n",
      "          14.2857,  12.2436, -10.7215],\n",
      "        [ -8.1032,  14.8195,   5.2145,  -3.2748,   1.7557,   6.3478,   7.9220,\n",
      "           5.6104,  16.0861, -17.3329],\n",
      "        [ -8.6553,  16.2943,   9.1801,  -4.8175,  -8.3444,   0.9252,  17.1786,\n",
      "           5.6011,  14.8412, -11.7762],\n",
      "        [ -4.4810,   4.7677,  -0.3029, -11.4840,  -1.6885,   4.3902,   1.1587,\n",
      "           4.3017,   4.6484, -18.2924],\n",
      "        [ -5.3881,  13.9963,   3.2957,  -4.3284,  -6.8197,   5.7856,   5.8636,\n",
      "           5.1839,  11.8481,  -9.6315],\n",
      "        [ -0.5696,   9.0845,  -0.1054,  -4.3349,  -3.6039,   2.6264,   6.6786,\n",
      "           7.9172,  18.9095, -12.4748],\n",
      "        [-12.9082,  13.6945,   6.7027,  -4.8352,   6.3216,  -2.9914,   5.3740,\n",
      "           2.2467,  17.8688, -12.0443],\n",
      "        [  6.5720,  14.4471,   0.6168,   7.7734,  -3.1530,  -6.5396,  12.3540,\n",
      "          13.9494,  11.5791, -11.5118],\n",
      "        [ -6.1150,  22.3591,   8.1286,  -6.2608, -12.4546,  -5.3246,   6.9369,\n",
      "          17.1391,   9.2425,  -8.5003],\n",
      "        [ -4.5868,  27.2392,  12.1013,   0.2615,  -5.5659, -12.4309,   7.6830,\n",
      "          11.7700,  17.4394,  -5.6788],\n",
      "        [ -2.0017,  10.8654,   4.4301,  -5.4936,  -2.3812,   0.3703,  12.1032,\n",
      "          14.9338,  10.5865,  -6.1261],\n",
      "        [ -1.4725,   2.8262,   0.3239,  -3.5618,   1.6192,   2.0684,   8.4138,\n",
      "           7.9494,  16.7437, -15.1998],\n",
      "        [  4.4256,   6.6943,  -5.3685,  -3.8007,  -0.1499,  -0.9979,   3.1490,\n",
      "           3.3425,  14.6786, -17.7200],\n",
      "        [ -4.7021,  21.8157,   2.7397,   1.3743,  -0.0997,  -6.0424,  12.1462,\n",
      "          16.4121,  10.2605,  -9.8011],\n",
      "        [ -2.4622,  13.2010,   4.4149,   3.3332,   3.4258,  -2.4910,  11.8121,\n",
      "           8.2971,  15.9408, -15.1034],\n",
      "        [ -8.8614,  13.9965,   6.2236,  -1.2229,  -3.8037,  11.5792,   8.5064,\n",
      "          12.4252,  23.6851, -26.9969],\n",
      "        [ -3.9772,  20.4064,   8.1361,  -6.3303,  -7.4921,  -5.4453,  12.0822,\n",
      "           5.8158,  21.7099,  -4.8731],\n",
      "        [ -3.8317,  16.5358,   8.5552,  -0.4336,  -4.7551,   7.3281,  15.2606,\n",
      "          -0.8924,  14.4990, -18.4305],\n",
      "        [ -3.8084,   9.4521,   3.4268,  -2.1847,  -8.4708,  -8.6243,  12.1592,\n",
      "          12.6904,  13.2330,  -9.5869],\n",
      "        [-15.0319,  20.2615,  10.8612,  -3.2228,  -2.1778,   3.0145,   6.5904,\n",
      "          12.7791,  24.3695,  -7.4492],\n",
      "        [ -7.9311,  19.9797,   7.2784,  -4.4840,  -7.5538,   7.5338,  15.5662,\n",
      "           1.8800,  13.9612, -17.1789],\n",
      "        [  3.3547,  17.2125,   0.1558,  -6.6451,  -4.7275,  -3.9769,  15.2711,\n",
      "           3.5901,   9.6067, -14.1107],\n",
      "        [ -1.7270,  12.2931,   9.7442,  -1.1357,   1.9617,  -4.5896,   6.4460,\n",
      "           9.5208,  10.1330, -10.5969],\n",
      "        [ -2.1813,  17.1597,  12.5595,  -2.4510,  -3.3893,   0.4061,   4.3512,\n",
      "           5.3416,  11.4901,   2.7080],\n",
      "        [ -6.2576,  15.4058,  -0.8361,  -3.6206,  -5.0006,  -1.9627,  18.8112,\n",
      "           7.3356,   7.0773,  -7.6049],\n",
      "        [ -8.1944,  17.6488,   4.3770,   4.8792,  -4.9893, -10.8013,  15.3219,\n",
      "           1.9640,   3.4601, -13.6715],\n",
      "        [ -4.3934,  16.3315,   8.2627,  -1.2487,  -5.5953,   8.9070,   2.8994,\n",
      "          -5.4954,   8.0581, -10.2204],\n",
      "        [ -8.0573,  16.7240,   4.1218,  -4.7702,  -6.0452,  13.0013,   4.9773,\n",
      "          -1.8090,  19.5196, -17.6930],\n",
      "        [  1.9096,  20.2942,  -1.0057,   0.1552,  -4.2637,  -2.9540,  19.8475,\n",
      "           3.9569,   4.9212,  -7.9183],\n",
      "        [  6.7428,  10.7593,   2.8073,  -6.9587,   0.6880,   1.0767,  13.7361,\n",
      "           4.1218,  11.7666,  -1.7460],\n",
      "        [  4.8584,  15.6864,   7.3238,   2.8909,  -2.1781,   2.0940,   8.5215,\n",
      "          -3.5044,  10.4919, -16.7934],\n",
      "        [ -3.6527,  12.7406,  -3.0323, -13.5718,   7.0238,   8.5891,  10.8514,\n",
      "           1.8019,  21.5382, -10.6869],\n",
      "        [ -3.3130,  17.6812,   6.8329,  -1.3459,   1.0034,  -8.0499,  14.0217,\n",
      "          16.1316,  11.7001,  -8.5063],\n",
      "        [ -1.4724,  22.3694,   5.5089,  -4.2364,   6.7502,  -2.1727,  16.4308,\n",
      "           6.9849,  11.2369,   3.3356],\n",
      "        [  7.6250,  20.3951,  -3.0720,   2.3419,  -5.4433,   1.7845,   8.5592,\n",
      "          -0.4459,   3.5123, -13.8105],\n",
      "        [ -2.2426,  16.4000,   6.1601,  -1.1076,   6.6158,  -3.7013,  13.4623,\n",
      "           5.2856,  13.7457,  -8.8183],\n",
      "        [ -0.8285,  20.4576,   3.0602,   2.6558,   2.1045,  -9.9228,  14.0668,\n",
      "           8.8346,  18.8938,  -7.1447],\n",
      "        [ -3.6673,  26.6782,   2.6680,  -3.6206,  -8.6069,   4.4718,   8.5720,\n",
      "          -0.3873,   9.5400,  -9.7348],\n",
      "        [ -6.6957,  15.2444,   1.0982,  -2.1280,   0.0585,  -3.5976,   7.1381,\n",
      "           7.3145,  21.7451, -11.6939],\n",
      "        [  6.0224,  13.1067,   6.9247,  -7.0199,  -0.3372,  -0.9064,  17.9942,\n",
      "           5.4480,  11.6989,  -8.1751],\n",
      "        [  0.5962,   8.5010,   7.4425,  -9.7170,  -3.7164,  -8.3087,   2.8554,\n",
      "           3.9288,  15.4093,  -8.3939],\n",
      "        [-10.7631,  28.6307,   3.1460,  -2.0674,  -5.7736,   3.8391,  16.1889,\n",
      "           4.1870,   9.6855,  -8.5191],\n",
      "        [  4.8712,  -2.2878,   4.7866,  -7.0768,   2.9863,  -3.0951,   6.7954,\n",
      "          12.7516,  14.0301,  -2.4095]])\n"
     ]
    }
   ],
   "source": [
    "## Your solution\n",
    "#This type of network is called a fully connected network A.K.A. a dense network\n",
    "def sigma(x):\n",
    "    return 1/(1 + torch.exp(-x)) # it needs to be torch.exp since the below values are tensors, or else it would cause a runtime error like this : - ipykernel_launcher.py:4: RuntimeWarning: overflow encountered in exp after removing the cwd from sys.path.\n",
    "x = images.view(64, 784) # first element is the batch size 64 and second is the number of inputs 784 (alternatively entering '-1' will allow the system to choose the appropriate size of elements, so the elements after reshaping matches the number of elemnts before reshaping)\n",
    "n_i = 784 # number of inputs\n",
    "n_h = 256 # number of hidden\n",
    "n_o = 10 # number of outputs\n",
    "\n",
    "WIH = torch.randn(n_i, n_h) # Weights input to hidden\n",
    "BIH = torch.randn(n_h) # bias for hidden\n",
    "\n",
    "h = sigma(torch.mm(x, WIH) + BIH)\n",
    "\n",
    "WHO = torch.randn(n_h, n_o) # weights hidden to output\n",
    "BHO = torch.randn(n_o) # bias for output\n",
    "\n",
    "out = torch.mm(h, WHO) + BHO # output of your network, should have shape (64,10)\n",
    "print(out.shape)\n",
    "print(out)"
   ]
  },
  {
   "cell_type": "markdown",
   "metadata": {},
   "source": [
    "Now we have 10 outputs for our network. We want to pass in an image to our network and get out a probability distribution over the classes that tells us the likely class(es) the image belongs to. Something that looks like this:\n",
    "<img src='assets/image_distribution.png' width=500px>\n",
    "\n",
    "Here we see that the probability for each class is roughly the same. This is representing an untrained network, it hasn't seen any data yet so it just returns a uniform distribution with equal probabilities for each class.\n",
    "\n",
    "To calculate this probability distribution, we often use the [**softmax** function](https://en.wikipedia.org/wiki/Softmax_function). Mathematically this looks like\n",
    "\n",
    "$$\n",
    "\\Large \\sigma(x_i) = \\cfrac{e^{x_i}}{\\sum_k^K{e^{x_k}}}\n",
    "$$\n",
    "\n",
    "What this does is squish each input $x_i$ between 0 and 1 and normalizes the values to give you a proper probability distribution where the probabilites sum up to one.\n",
    "\n",
    "> **Exercise:** Implement a function `softmax` that performs the softmax calculation and returns probability distributions for each example in the batch. Note that you'll need to pay attention to the shapes when doing this. If you have a tensor `a` with shape `(64, 10)` and a tensor `b` with shape `(64,)`, doing `a/b` will give you an error because PyTorch will try to do the division across the columns (called broadcasting) but you'll get a size mismatch. The way to think about this is for each of the 64 examples, you only want to divide by one value, the sum in the denominator. So you need `b` to have a shape of `(64, 1)`. This way PyTorch will divide the 10 values in each row of `a` by the one value in each row of `b`. Pay attention to how you take the sum as well. You'll need to define the `dim` keyword in `torch.sum`. Setting `dim=0` takes the sum across the rows while `dim=1` takes the sum across the columns."
   ]
  },
  {
   "cell_type": "code",
   "execution_count": 13,
   "metadata": {},
   "outputs": [
    {
     "name": "stdout",
     "output_type": "stream",
     "text": [
      "torch.Size([64, 10])\n",
      "tensor([7.6398e-05, 1.0113e-03, 1.3896e-01, 6.7668e-02, 1.1055e+00, 3.6732e-02,\n",
      "        5.8802e-04, 1.0887e-03, 1.8146e-02, 8.9692e-01, 1.9370e-02, 9.6159e-01,\n",
      "        1.9651e-02, 2.0547e-02, 3.2663e-03, 1.6048e-02, 2.9614e-04, 7.2060e-04,\n",
      "        1.9294e-02, 1.5814e+00, 3.0364e-02, 4.7080e-01, 9.0500e-04, 3.3966e-02,\n",
      "        2.3282e-05, 6.4833e-05, 2.0551e-04, 5.5433e-02, 6.4745e-01, 5.5428e-02,\n",
      "        4.6102e-01, 5.6823e-03, 5.3143e-04, 4.0299e-04, 2.5641e-02, 1.0802e-02,\n",
      "        2.9086e-02, 8.9851e-03, 1.1185e-02, 7.7459e-04, 1.2755e-01, 6.2263e-03,\n",
      "        2.8883e-03, 2.7684e-02, 7.9349e-01, 9.5542e-02, 3.8620e-02, 6.5559e-03,\n",
      "        2.2319e-02, 2.6976e-01, 7.9762e-03, 7.7543e-03, 1.1208e-01, 2.0406e-02,\n",
      "        7.3913e-01, 1.0616e-02, 7.3875e-02, 5.9302e-03, 1.0073e-01, 3.3773e-03,\n",
      "        4.5409e-02, 2.7104e-03, 7.1647e-01, 5.2719e-03])\n"
     ]
    }
   ],
   "source": [
    "def softmax(x):\n",
    "    ## TODO: Implement the softmax function here\n",
    "    total_exp = torch.sum(torch.exp(x), dim = 0) # setting the denominator, this will be the sum across one single row\n",
    "    return torch.exp(x)/total_exp # this works because it thinks each tensor as a dataset which works with the rules of matrix multiplication and broadcasting\n",
    "    \n",
    "# Here, out should be the output of the network in the previous excercise with shape (64,10)\n",
    "probabilities = softmax(out)\n",
    "\n",
    "# Does it have the right shape? Should be (64, 10)\n",
    "print(probabilities.shape)\n",
    "# Does it sum to 1?\n",
    "print(probabilities.sum(dim=1))"
   ]
  },
  {
   "cell_type": "markdown",
   "metadata": {},
   "source": [
    "## Building networks with PyTorch\n",
    "\n",
    "PyTorch provides a module `nn` that makes building networks much simpler. Here I'll show you how to build the same one as above with 784 inputs, 256 hidden units, 10 output units and a softmax output."
   ]
  },
  {
   "cell_type": "code",
   "execution_count": 14,
   "metadata": {},
   "outputs": [],
   "source": [
    "from torch import nn"
   ]
  },
  {
   "cell_type": "code",
   "execution_count": 16,
   "metadata": {},
   "outputs": [],
   "source": [
    "class Network(nn.Module): # making it a subclass of nn.Module\n",
    "    def __init__(self):\n",
    "        super().__init__() # without including this line, pytorch would not register the different layers and operations we need, and it won't be able to track this Neural Network\n",
    "        \n",
    "        # Inputs to hidden layer linear transformation\n",
    "        self.hidden = nn.Linear(784, 256) # creates an object with parameters for the weights and  bias, all it needs is the size of the input and the outputs for that object\n",
    "        # Output layer, 10 units - one for each digit\n",
    "        self.output = nn.Linear(256, 10) # therefore 256 inputs from the hidden layer and 10 outputs at the output layer\n",
    "        \n",
    "        # Define sigmoid activation and softmax output \n",
    "        self.sigmoid = nn.Sigmoid()\n",
    "        self.softmax = nn.Softmax(dim=1)\n",
    "        \n",
    "    def forward(self, x):\n",
    "        # Pass the input tensor through each of our operations\n",
    "        x = self.hidden(x)\n",
    "        x = self.sigmoid(x)\n",
    "        x = self.output(x)\n",
    "        x = self.softmax(x)# needs to be done in order as python runs line by line, the order doesn't matter in the init method\n",
    "        \n",
    "        return x # returns the object with the updated variables"
   ]
  },
  {
   "cell_type": "markdown",
   "metadata": {},
   "source": [
    "Let's go through this bit by bit.\n",
    "\n",
    "```python\n",
    "class Network(nn.Module):\n",
    "```\n",
    "\n",
    "Here we're inheriting from `nn.Module`. Combined with `super().__init__()` this creates a class that tracks the architecture and provides a lot of useful methods and attributes. It is mandatory to inherit from `nn.Module` when you're creating a class for your network. The name of the class itself can be anything.\n",
    "\n",
    "```python\n",
    "self.hidden = nn.Linear(784, 256)\n",
    "```\n",
    "\n",
    "This line creates a module for a linear transformation, $x\\mathbf{W} + b$, with 784 inputs and 256 outputs and assigns it to `self.hidden`. The module automatically creates the weight and bias tensors which we'll use in the `forward` method. You can access the weight and bias tensors once the network (`net`) is created with `net.hidden.weight` and `net.hidden.bias`.\n",
    "\n",
    "```python\n",
    "self.output = nn.Linear(256, 10)\n",
    "```\n",
    "\n",
    "Similarly, this creates another linear transformation with 256 inputs and 10 outputs.\n",
    "\n",
    "```python\n",
    "self.sigmoid = nn.Sigmoid()\n",
    "self.softmax = nn.Softmax(dim=1)\n",
    "```\n",
    "\n",
    "Here I defined operations for the sigmoid activation and softmax output. Setting `dim=1` in `nn.Softmax(dim=1)` calculates softmax across the columns.\n",
    "\n",
    "```python\n",
    "def forward(self, x):\n",
    "```\n",
    "\n",
    "PyTorch networks created with `nn.Module` must have a `forward` method defined. It takes in a tensor `x` and passes it through the operations you defined in the `__init__` method.\n",
    "\n",
    "```python\n",
    "x = self.hidden(x)\n",
    "x = self.sigmoid(x)\n",
    "x = self.output(x)\n",
    "x = self.softmax(x)\n",
    "```\n",
    "\n",
    "Here the input tensor `x` is passed through each operation and reassigned to `x`. We can see that the input tensor goes through the hidden layer, then a sigmoid function, then the output layer, and finally the softmax function. It doesn't matter what you name the variables here, as long as the inputs and outputs of the operations match the network architecture you want to build. The order in which you define things in the `__init__` method doesn't matter, but you'll need to sequence the operations correctly in the `forward` method.\n",
    "\n",
    "Now we can create a `Network` object."
   ]
  },
  {
   "cell_type": "code",
   "execution_count": 17,
   "metadata": {},
   "outputs": [
    {
     "data": {
      "text/plain": [
       "Network(\n",
       "  (hidden): Linear(in_features=784, out_features=256, bias=True)\n",
       "  (output): Linear(in_features=256, out_features=10, bias=True)\n",
       "  (sigmoid): Sigmoid()\n",
       "  (softmax): Softmax(dim=1)\n",
       ")"
      ]
     },
     "execution_count": 17,
     "metadata": {},
     "output_type": "execute_result"
    }
   ],
   "source": [
    "# Create the network and look at it's text representation\n",
    "model = Network()\n",
    "model"
   ]
  },
  {
   "cell_type": "markdown",
   "metadata": {},
   "source": [
    "You can define the network somewhat more concisely and clearly using the `torch.nn.functional` module. This is the most common way you'll see networks defined as many operations are simple element-wise functions. We normally import this module as `F`, `import torch.nn.functional as F`."
   ]
  },
  {
   "cell_type": "code",
   "execution_count": 18,
   "metadata": {},
   "outputs": [],
   "source": [
    "import torch.nn.functional as F\n",
    "\n",
    "class Network(nn.Module):\n",
    "    def __init__(self):\n",
    "        super().__init__()\n",
    "        # Inputs to hidden layer linear transformation\n",
    "        self.hidden = nn.Linear(784, 256)\n",
    "        # Output layer, 10 units - one for each digit\n",
    "        self.output = nn.Linear(256, 10)\n",
    "        \n",
    "    def forward(self, x):\n",
    "        # Hidden layer with sigmoid activation\n",
    "        x = F.sigmoid(self.hidden(x))\n",
    "        # Output layer with softmax activation\n",
    "        x = F.softmax(self.output(x), dim=1)\n",
    "        \n",
    "        return x"
   ]
  },
  {
   "cell_type": "markdown",
   "metadata": {},
   "source": [
    "### Activation functions\n",
    "\n",
    "So far we've only been looking at the sigmoid activation function, but in general any function can be used as an activation function. The only requirement is that for a network to approximate a non-linear function, the activation functions must be non-linear. Here are a few more examples of common activation functions: Tanh (hyperbolic tangent), and ReLU (rectified linear unit).\n",
    "\n",
    "<img src=\"assets/activation.png\" width=700px>\n",
    "\n",
    "In practice, the ReLU function is used almost exclusively as the activation function for hidden layers."
   ]
  },
  {
   "cell_type": "markdown",
   "metadata": {},
   "source": [
    "### Your Turn to Build a Network\n",
    "\n",
    "<img src=\"assets/mlp_mnist.png\" width=600px>\n",
    "\n",
    "> **Exercise:** Create a network with 784 input units, a hidden layer with 128 units and a ReLU activation, then a hidden layer with 64 units and a ReLU activation, and finally an output layer with a softmax activation as shown above. You can use a ReLU activation with the `nn.ReLU` module or `F.relu` function.\n",
    "\n",
    "It's good practice to name your layers by their type of network, for instance 'fc' to represent a fully-connected layer. As you code your solution, use `fc1`, `fc2`, and `fc3` as your layer names."
   ]
  },
  {
   "cell_type": "code",
   "execution_count": 25,
   "metadata": {
    "scrolled": true
   },
   "outputs": [
    {
     "data": {
      "text/plain": [
       "Another_Network(\n",
       "  (h1): Linear(in_features=784, out_features=128, bias=True)\n",
       "  (h2): Linear(in_features=128, out_features=64, bias=True)\n",
       "  (y): Linear(in_features=64, out_features=10, bias=True)\n",
       ")"
      ]
     },
     "execution_count": 25,
     "metadata": {},
     "output_type": "execute_result"
    }
   ],
   "source": [
    "## Your solution here\n",
    "class Another_Network(nn.Module):\n",
    "    def __init__(self):\n",
    "        super().__init__()\n",
    "        \n",
    "        self.h1 = nn.Linear(784,128) # input to hidden layer 1\n",
    "        self.h2 = nn.Linear(128,64) # h1 to h2\n",
    "        self.y = nn.Linear(64,10) # h2 to output\n",
    "        \n",
    "    def forward(self,x): # feedforward process\n",
    "        x = F.relu(self.h1(x)) # seems there is a difference between F.sigmoid and nn.Sigmoid, there there will be a difference between ReLU and relu; apparently the funtion call is more effiecient based on the GPU resources used\n",
    "        x = F.relu(self.h2(x))\n",
    "        x = F.softmax(self.y(x), dim=1 ) # dim=0 goes along the rows, while dim=1 goes along the columns (think of it like axis in numpy)\n",
    "        \n",
    "        return x\n",
    "\n",
    "an = Another_Network()\n",
    "an"
   ]
  },
  {
   "cell_type": "markdown",
   "metadata": {},
   "source": [
    "### Initializing weights and biases\n",
    "\n",
    "The weights and such are automatically initialized for you, but it's possible to customize how they are initialized. The weights and biases are tensors attached to the layer you defined, you can get them with `model.fc1.weight` for instance."
   ]
  },
  {
   "cell_type": "code",
   "execution_count": 26,
   "metadata": {},
   "outputs": [
    {
     "name": "stdout",
     "output_type": "stream",
     "text": [
      "Parameter containing:\n",
      "tensor([[-0.0162, -0.0333, -0.0110,  ...,  0.0232,  0.0112, -0.0286],\n",
      "        [ 0.0199,  0.0221,  0.0267,  ..., -0.0335, -0.0126,  0.0005],\n",
      "        [ 0.0171, -0.0143, -0.0346,  ...,  0.0098,  0.0302, -0.0091],\n",
      "        ...,\n",
      "        [ 0.0227, -0.0085, -0.0233,  ...,  0.0070, -0.0154,  0.0316],\n",
      "        [-0.0283,  0.0102, -0.0355,  ..., -0.0293,  0.0048,  0.0003],\n",
      "        [-0.0022, -0.0293, -0.0265,  ...,  0.0310, -0.0269, -0.0131]],\n",
      "       requires_grad=True)\n",
      "Parameter containing:\n",
      "tensor([ 3.6215e-04, -2.8851e-02,  3.4630e-02,  1.0809e-02,  2.8785e-03,\n",
      "        -2.6329e-03, -4.4573e-03, -2.3319e-02,  3.2645e-02, -2.5789e-02,\n",
      "         1.0276e-02, -3.5885e-03,  1.6275e-02,  3.4490e-03,  2.0764e-02,\n",
      "         2.6359e-02, -1.6358e-02, -8.4594e-03,  2.5053e-02, -3.2378e-02,\n",
      "         3.4439e-02,  1.3763e-02,  1.0674e-02,  2.8230e-03,  1.6836e-03,\n",
      "        -1.9704e-02,  2.3916e-02, -1.4657e-02,  2.7541e-05, -2.3475e-03,\n",
      "        -2.4092e-02, -1.4923e-02, -1.6939e-02,  2.7248e-02,  2.9686e-02,\n",
      "        -2.2533e-02, -1.9669e-02, -1.7823e-02,  3.0120e-02,  3.4701e-02,\n",
      "         5.5681e-03,  2.6403e-02,  5.8015e-03,  2.5911e-02, -2.0201e-02,\n",
      "         1.7746e-02, -2.0223e-03, -1.6514e-02, -1.7064e-02, -2.8677e-02,\n",
      "         2.3267e-02, -2.8536e-02, -2.5395e-02,  3.1242e-02, -3.1409e-02,\n",
      "         8.0159e-03, -7.1719e-03,  1.5516e-02, -1.0586e-02, -2.9595e-02,\n",
      "        -1.4001e-03,  3.3590e-02, -2.4933e-02,  2.1144e-03, -2.2381e-02,\n",
      "        -3.0546e-02, -3.1053e-02,  1.8180e-02,  4.7917e-03, -2.9110e-02,\n",
      "        -3.3268e-02, -6.5115e-03,  1.9392e-02,  1.6774e-02,  2.5291e-02,\n",
      "         3.1145e-02,  2.2712e-02,  2.9419e-02, -2.3566e-02,  3.1685e-02,\n",
      "         1.7676e-02,  6.0400e-03,  3.2921e-02, -3.2011e-02,  8.3558e-03,\n",
      "        -1.1276e-02,  1.0689e-02, -2.0025e-02, -6.1213e-03,  3.2909e-02,\n",
      "        -2.2245e-02, -2.1817e-02,  1.2287e-02, -2.5175e-02,  2.3404e-02,\n",
      "        -2.7620e-02, -1.8663e-02, -3.3200e-02, -5.0805e-03, -2.8894e-02,\n",
      "        -2.5202e-02, -1.2317e-02,  3.5198e-04, -2.2522e-02, -1.8342e-02,\n",
      "         3.0953e-03,  1.7647e-02, -7.3606e-03,  3.5061e-02, -3.4054e-02,\n",
      "        -3.5108e-02, -9.2109e-03,  1.9847e-02,  1.1343e-02, -1.3305e-02,\n",
      "        -3.1524e-02, -1.7261e-03,  1.1099e-02, -2.7480e-02, -2.1346e-02,\n",
      "         9.9807e-03, -1.6861e-02, -3.4429e-02,  5.0339e-03, -3.1346e-02,\n",
      "         1.2058e-02,  1.5839e-02,  8.2314e-03], requires_grad=True)\n"
     ]
    }
   ],
   "source": [
    "print(an.h1.weight)\n",
    "print(an.h1.bias)"
   ]
  },
  {
   "cell_type": "markdown",
   "metadata": {},
   "source": [
    "For custom initialization, we want to modify these tensors in place. These are actually autograd *Variables*, so we need to get back the actual tensors with `model.fc1.weight.data`. Once we have the tensors, we can fill them with zeros (for biases) or random normal values."
   ]
  },
  {
   "cell_type": "code",
   "execution_count": 27,
   "metadata": {},
   "outputs": [
    {
     "data": {
      "text/plain": [
       "tensor([0., 0., 0., 0., 0., 0., 0., 0., 0., 0., 0., 0., 0., 0., 0., 0., 0., 0., 0., 0., 0., 0., 0., 0.,\n",
       "        0., 0., 0., 0., 0., 0., 0., 0., 0., 0., 0., 0., 0., 0., 0., 0., 0., 0., 0., 0., 0., 0., 0., 0.,\n",
       "        0., 0., 0., 0., 0., 0., 0., 0., 0., 0., 0., 0., 0., 0., 0., 0., 0., 0., 0., 0., 0., 0., 0., 0.,\n",
       "        0., 0., 0., 0., 0., 0., 0., 0., 0., 0., 0., 0., 0., 0., 0., 0., 0., 0., 0., 0., 0., 0., 0., 0.,\n",
       "        0., 0., 0., 0., 0., 0., 0., 0., 0., 0., 0., 0., 0., 0., 0., 0., 0., 0., 0., 0., 0., 0., 0., 0.,\n",
       "        0., 0., 0., 0., 0., 0., 0., 0.])"
      ]
     },
     "execution_count": 27,
     "metadata": {},
     "output_type": "execute_result"
    }
   ],
   "source": [
    "# Set biases to all zeros\n",
    "an.h1.bias.data.fill_(0)"
   ]
  },
  {
   "cell_type": "code",
   "execution_count": 28,
   "metadata": {},
   "outputs": [
    {
     "data": {
      "text/plain": [
       "tensor([[ 1.6460e-02, -1.0592e-02, -8.3149e-03,  ...,  1.3279e-02,\n",
       "         -3.1063e-03, -6.2954e-03],\n",
       "        [-8.3544e-03,  1.9107e-03,  6.4717e-03,  ..., -7.8437e-03,\n",
       "         -9.6395e-03, -9.8875e-05],\n",
       "        [-1.3659e-02, -3.4874e-03, -5.1689e-03,  ...,  8.6151e-03,\n",
       "         -9.5005e-03,  4.8950e-03],\n",
       "        ...,\n",
       "        [ 3.3072e-02, -1.8119e-02, -1.9902e-02,  ...,  4.4918e-03,\n",
       "         -1.0894e-02, -6.3852e-03],\n",
       "        [ 1.0603e-03, -2.5945e-03, -2.0125e-02,  ...,  1.5830e-02,\n",
       "         -9.1702e-03,  2.0208e-03],\n",
       "        [-3.8083e-03,  1.1247e-02,  7.1887e-03,  ...,  8.4718e-03,\n",
       "         -1.2980e-02, -1.1974e-02]])"
      ]
     },
     "execution_count": 28,
     "metadata": {},
     "output_type": "execute_result"
    }
   ],
   "source": [
    "# sample from random normal with standard dev = 0.01\n",
    "an.h1.weight.data.normal_(std=0.01)"
   ]
  },
  {
   "cell_type": "markdown",
   "metadata": {},
   "source": [
    "### Forward pass\n",
    "\n",
    "Now that we have a network, let's see what happens when we pass in an image."
   ]
  },
  {
   "cell_type": "code",
   "execution_count": 29,
   "metadata": {},
   "outputs": [
    {
     "data": {
      "image/png": "[encoded data removed]",
      "text/plain": [
       "<Figure size 432x648 with 2 Axes>"
      ]
     },
     "metadata": {
      "image/png": {
       "height": 235,
       "width": 424
      },
      "needs_background": "light"
     },
     "output_type": "display_data"
    }
   ],
   "source": [
    "# Grab some data \n",
    "dataiter = iter(trainloader)\n",
    "images, labels = dataiter.next()\n",
    "\n",
    "# Resize images into a 1D vector, new shape is (batch size, color channels, image pixels) \n",
    "images.resize_(64, 1, 784)\n",
    "# or images.resize_(images.shape[0], 1, 784) to automatically get batch size\n",
    "\n",
    "# Forward pass through the network\n",
    "img_idx = 0\n",
    "ps = model.forward(images[img_idx,:])\n",
    "\n",
    "img = images[img_idx]\n",
    "helper.view_classify(img.view(1, 28, 28), ps)"
   ]
  },
  {
   "cell_type": "markdown",
   "metadata": {},
   "source": [
    "As you can see above, our network has basically no idea what this digit is. It's because we haven't trained it yet, all the weights are random!\n",
    "\n",
    "### Using `nn.Sequential`\n",
    "\n",
    "PyTorch provides a convenient way to build networks like this where a tensor is passed sequentially through operations, `nn.Sequential` ([documentation](https://pytorch.org/docs/master/nn.html#torch.nn.Sequential)). Using this to build the equivalent network:"
   ]
  },
  {
   "cell_type": "code",
   "execution_count": 30,
   "metadata": {},
   "outputs": [
    {
     "name": "stdout",
     "output_type": "stream",
     "text": [
      "Sequential(\n",
      "  (0): Linear(in_features=784, out_features=128, bias=True)\n",
      "  (1): ReLU()\n",
      "  (2): Linear(in_features=128, out_features=64, bias=True)\n",
      "  (3): ReLU()\n",
      "  (4): Linear(in_features=64, out_features=10, bias=True)\n",
      "  (5): Softmax(dim=1)\n",
      ")\n"
     ]
    },
    {
     "data": {
      "image/png": "[encoded data removed]",
      "text/plain": [
       "<Figure size 432x648 with 2 Axes>"
      ]
     },
     "metadata": {
      "image/png": {
       "height": 235,
       "width": 424
      },
      "needs_background": "light"
     },
     "output_type": "display_data"
    }
   ],
   "source": [
    "# Hyperparameters for our network\n",
    "input_size = 784\n",
    "hidden_sizes = [128, 64]\n",
    "output_size = 10\n",
    "\n",
    "# Build a feed-forward network\n",
    "model = nn.Sequential(nn.Linear(input_size, hidden_sizes[0]),\n",
    "                      nn.ReLU(),\n",
    "                      nn.Linear(hidden_sizes[0], hidden_sizes[1]),\n",
    "                      nn.ReLU(),\n",
    "                      nn.Linear(hidden_sizes[1], output_size),\n",
    "                      nn.Softmax(dim=1))\n",
    "print(model)\n",
    "\n",
    "# Forward pass through the network and display output\n",
    "images, labels = next(iter(trainloader))\n",
    "images.resize_(images.shape[0], 1, 784)\n",
    "ps = model.forward(images[0,:])\n",
    "helper.view_classify(images[0].view(1, 28, 28), ps)"
   ]
  },
  {
   "cell_type": "markdown",
   "metadata": {},
   "source": [
    "Here our model is the same as before: 784 input units, a hidden layer with 128 units, ReLU activation, 64 unit hidden layer, another ReLU, then the output layer with 10 units, and the softmax output.\n",
    "\n",
    "The operations are available by passing in the appropriate index. For example, if you want to get first Linear operation and look at the weights, you'd use `model[0]`."
   ]
  },
  {
   "cell_type": "code",
   "execution_count": 31,
   "metadata": {},
   "outputs": [
    {
     "name": "stdout",
     "output_type": "stream",
     "text": [
      "Linear(in_features=784, out_features=128, bias=True)\n"
     ]
    },
    {
     "data": {
      "text/plain": [
       "Parameter containing:\n",
       "tensor([[ 0.0060, -0.0250, -0.0109,  ..., -0.0129,  0.0230, -0.0302],\n",
       "        [ 0.0288, -0.0264,  0.0083,  ...,  0.0158, -0.0233,  0.0064],\n",
       "        [ 0.0306,  0.0225, -0.0349,  ...,  0.0195, -0.0228, -0.0320],\n",
       "        ...,\n",
       "        [ 0.0299,  0.0089,  0.0025,  ..., -0.0261, -0.0192,  0.0320],\n",
       "        [ 0.0011,  0.0333,  0.0042,  ...,  0.0146, -0.0293,  0.0018],\n",
       "        [-0.0087,  0.0087, -0.0173,  ..., -0.0321, -0.0065, -0.0349]],\n",
       "       requires_grad=True)"
      ]
     },
     "execution_count": 31,
     "metadata": {},
     "output_type": "execute_result"
    }
   ],
   "source": [
    "print(model[0])\n",
    "model[0].weight"
   ]
  },
  {
   "cell_type": "markdown",
   "metadata": {},
   "source": [
    "You can also pass in an `OrderedDict` to name the individual layers and operations, instead of using incremental integers. Note that dictionary keys must be unique, so _each operation must have a different name_."
   ]
  },
  {
   "cell_type": "code",
   "execution_count": 32,
   "metadata": {},
   "outputs": [
    {
     "data": {
      "text/plain": [
       "Sequential(\n",
       "  (fc1): Linear(in_features=784, out_features=128, bias=True)\n",
       "  (relu1): ReLU()\n",
       "  (fc2): Linear(in_features=128, out_features=64, bias=True)\n",
       "  (relu2): ReLU()\n",
       "  (output): Linear(in_features=64, out_features=10, bias=True)\n",
       "  (softmax): Softmax(dim=1)\n",
       ")"
      ]
     },
     "execution_count": 32,
     "metadata": {},
     "output_type": "execute_result"
    }
   ],
   "source": [
    "from collections import OrderedDict\n",
    "model = nn.Sequential(OrderedDict([\n",
    "                      ('fc1', nn.Linear(input_size, hidden_sizes[0])),\n",
    "                      ('relu1', nn.ReLU()),\n",
    "                      ('fc2', nn.Linear(hidden_sizes[0], hidden_sizes[1])),\n",
    "                      ('relu2', nn.ReLU()),\n",
    "                      ('output', nn.Linear(hidden_sizes[1], output_size)),\n",
    "                      ('softmax', nn.Softmax(dim=1))]))\n",
    "model"
   ]
  },
  {
   "cell_type": "markdown",
   "metadata": {},
   "source": [
    "Now you can access layers either by integer or the name"
   ]
  },
  {
   "cell_type": "code",
   "execution_count": 33,
   "metadata": {},
   "outputs": [
    {
     "name": "stdout",
     "output_type": "stream",
     "text": [
      "Linear(in_features=784, out_features=128, bias=True)\n",
      "Linear(in_features=784, out_features=128, bias=True)\n"
     ]
    }
   ],
   "source": [
    "print(model[0])\n",
    "print(model.fc1)"
   ]
  },
  {
   "cell_type": "markdown",
   "metadata": {},
   "source": [
    "In the next notebook, we'll see how we can train a neural network to accuractly predict the numbers appearing in the MNIST images."
   ]
  }
 ],
 "metadata": {
  "kernelspec": {
   "display_name": "Python 3",
   "language": "python",
   "name": "python3"
  },
  "language_info": {
   "codemirror_mode": {
    "name": "ipython",
    "version": 3
   },
   "file_extension": ".py",
   "mimetype": "text/x-python",
   "name": "python",
   "nbconvert_exporter": "python",
   "pygments_lexer": "ipython3",
   "version": "3.7.6"
  }
 },
 "nbformat": 4,
 "nbformat_minor": 2
}
